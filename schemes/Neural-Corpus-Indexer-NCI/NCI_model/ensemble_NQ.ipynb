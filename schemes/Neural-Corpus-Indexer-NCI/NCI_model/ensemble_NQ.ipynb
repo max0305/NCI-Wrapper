{
 "cells": [
  {
   "cell_type": "code",
   "execution_count": 1,
   "metadata": {},
   "outputs": [],
   "source": [
    "import pandas as pd\n",
    "import pickle\n",
    "from tqdm import tqdm\n",
    "import os\n",
    "import re\n",
    "import random\n",
    "from tqdm import trange\n",
    "import operator"
   ]
  },
  {
   "cell_type": "code",
   "execution_count": 2,
   "metadata": {},
   "outputs": [],
   "source": [
    "def load_id_mapping(filename_list, i):\n",
    "    id_map_dict = {}\n",
    "    for filename in filename_list:\n",
    "        f = open(filename, \"r\")\n",
    "        while True:\n",
    "            line = f.readline()\n",
    "            if len(line) == 0:\n",
    "                break\n",
    "            slots = re.split(r'\\t', line)\n",
    "            old_id = slots[2]\n",
    "            new_id = slots[i+2]\n",
    "            new_id = re.split(r'\\n', new_id)\n",
    "            \n",
    "            id_map_dict[new_id[0]] = old_id \n",
    "        f.close()\n",
    "    return id_map_dict"
   ]
  },
  {
   "cell_type": "code",
   "execution_count": 3,
   "metadata": {},
   "outputs": [],
   "source": [
    "RETURN_NUM = 100\n",
    "STEP = 5\n",
    "key=[] \n",
    "value=[]\n",
    "for number in range(RETURN_NUM):\n",
    "    key.append(number)\n",
    "    i = number / STEP + 1\n",
    "    value.append(1/i)\n",
    "## Weight\n",
    "dic=dict(zip(key,value)) "
   ]
  },
  {
   "cell_type": "code",
   "execution_count": 4,
   "metadata": {},
   "outputs": [],
   "source": [
    "def load_result(filename_list):\n",
    "    predict_dict = {}\n",
    "    gt_dict = {}\n",
    "    for i in range(len(filename_list)):\n",
    "        f = open(filename_list[i], \"r\")\n",
    "        idx = re.findall(r\"\\d+\",filename_list[i])\n",
    "        id_map_dict = load_id_mapping(['../Data_process/NQ_dataset/nq_title_abs.tsv'], int(idx[0]))\n",
    "            \n",
    "        for line in f.readlines():\n",
    "            query, predict_id, gt_id, rank = line[:-1].split(\"\\t\")\n",
    "            \n",
    "            gt_id = list(gt_id.split(\",\"))\n",
    "            for i in range(len(gt_id)):\n",
    "                gt_id[i] = id_map_dict[str(gt_id[i])]\n",
    "            \n",
    "            pred_id = [[], []]\n",
    "            predict_id = list(predict_id.split(\",\"))\n",
    "            for i in range(RETURN_NUM):\n",
    "                pred_id[0].append(id_map_dict[predict_id[i]])\n",
    "                pred_id[1].append(dic[i])\n",
    "            gt_dict[query] = gt_id\n",
    "            if query not in predict_dict:\n",
    "                predict_dict[query] = []\n",
    "                predict_dict[query].append(pred_id)\n",
    "            else:\n",
    "                predict_dict[query][0][0].extend(pred_id[0])\n",
    "                predict_dict[query][0][1].extend(pred_id[1])\n",
    "            # predict_dict[query] = predict_dict[query][0:previous_k] + predict_dict[query][max(0,len(predict_dict[query])-k):len(predict_dict[query])]\n",
    "        f.close()\n",
    "    return predict_dict, gt_dict\n",
    "\n",
    "## add your result path\n",
    "predict_dict, gt_dict = load_result(['./logs/nq_res1.tsv',\n",
    "                                     './logs/nq_res3.tsv',\n",
    "                                     './logs/nq_res4.tsv',\n",
    "                                     './logs/nq_res5.tsv',\n",
    "                                     './logs/nq_res5_2.tsv'\n",
    "                                    ])"
   ]
  },
  {
   "cell_type": "code",
   "execution_count": 5,
   "metadata": {},
   "outputs": [],
   "source": [
    "RECALL_NUM = 1\n",
    "for key,value in predict_dict.items():\n",
    "        dic_cnt = {}\n",
    "        for i in range(len(predict_dict[key][0][0])):\n",
    "            if predict_dict[key][0][0][i] not in dic_cnt:\n",
    "                dic_cnt[predict_dict[key][0][0][i]] = predict_dict[key][0][1][i]\n",
    "            else:\n",
    "                dic_cnt[predict_dict[key][0][0][i]] += predict_dict[key][0][1][i]\n",
    "        dic_cnt = sorted(dic_cnt.items(),key=operator.itemgetter(1),reverse=True)\n",
    "        pred_ans = []\n",
    "        for i in dic_cnt[:RECALL_NUM]:\n",
    "            pred_ans.append(i[0])\n",
    "        predict_dict[key] = pred_ans"
   ]
  },
  {
   "cell_type": "code",
   "execution_count": 6,
   "metadata": {},
   "outputs": [
    {
     "name": "stdout",
     "output_type": "stream",
     "text": [
      "recall@1: 0.7066411238825032\n"
     ]
    }
   ],
   "source": [
    "total = 0\n",
    "for q in predict_dict:\n",
    "    right = 0\n",
    "    for p in gt_dict[q]:\n",
    "        if p in predict_dict[q]:\n",
    "            right = 1\n",
    "    recall = right\n",
    "    total += recall\n",
    "recall_avg = total / len(predict_dict)\n",
    "print(f\"recall@{RECALL_NUM}: {recall_avg}\")"
   ]
  },
  {
   "cell_type": "code",
   "execution_count": 90,
   "metadata": {},
   "outputs": [
    {
     "name": "stdout",
     "output_type": "stream",
     "text": [
      "recall@10: 0.8934865900383142\n"
     ]
    }
   ],
   "source": [
    "total = 0\n",
    "for q in predict_dict:\n",
    "    right = 0\n",
    "    for p in gt_dict[q]:\n",
    "        if p in predict_dict[q]:\n",
    "            right = 1\n",
    "    recall = right \n",
    "    total += recall\n",
    "recall_avg = total / len(predict_dict)\n",
    "print(f\"recall@{RECALL_NUM}: {recall_avg}\")"
   ]
  },
  {
   "cell_type": "code",
   "execution_count": 93,
   "metadata": {},
   "outputs": [
    {
     "name": "stdout",
     "output_type": "stream",
     "text": [
      "recall@100: 0.9475095785440613\n"
     ]
    }
   ],
   "source": [
    "total = 0\n",
    "for q in predict_dict:\n",
    "    right = 0\n",
    "    for p in gt_dict[q]:\n",
    "        if p in predict_dict[q]:\n",
    "            right = 1\n",
    "    recall = right \n",
    "    total += recall\n",
    "recall_avg = total / len(predict_dict)\n",
    "print(f\"recall@{RECALL_NUM}: {recall_avg}\")"
   ]
  },
  {
   "cell_type": "code",
   "execution_count": 100,
   "metadata": {},
   "outputs": [
    {
     "name": "stdout",
     "output_type": "stream",
     "text": [
      "MRR100: 0.7781793688062428\n"
     ]
    }
   ],
   "source": [
    "mrr_total = 0\n",
    "query_num = 0\n",
    "for q in predict_dict:\n",
    "    right = 0\n",
    "    for p in gt_dict[q]:\n",
    "        if p in predict_dict[q]:\n",
    "            rank = predict_dict[q].index(p) + 1\n",
    "            mrr_total += 1 / rank\n",
    "        query_num += 1\n",
    "\n",
    "mrr = mrr_total / query_num\n",
    "print('{}: {}'.format('MRR100', mrr))"
   ]
  }
 ],
 "metadata": {
  "kernelspec": {
   "display_name": "Python 3 (ipykernel)",
   "language": "python",
   "name": "python3"
  },
  "language_info": {
   "codemirror_mode": {
    "name": "ipython",
    "version": 3
   },
   "file_extension": ".py",
   "mimetype": "text/x-python",
   "name": "python",
   "nbconvert_exporter": "python",
   "pygments_lexer": "ipython3",
   "version": "3.8.12"
  },
  "vscode": {
   "interpreter": {
    "hash": "b416cb4d04586a7afd6956883b93c6ac058c2de481a8a1931391c6ceb0e1e4eb"
   }
  }
 },
 "nbformat": 4,
 "nbformat_minor": 2
}
